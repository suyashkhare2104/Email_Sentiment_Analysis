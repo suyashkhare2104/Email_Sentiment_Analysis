{
 "cells": [
  {
   "cell_type": "code",
   "execution_count": 2,
   "metadata": {
    "scrolled": true
   },
   "outputs": [
    {
     "name": "stderr",
     "output_type": "stream",
     "text": [
      "/usr/lib/python3.5/importlib/_bootstrap.py:222: RuntimeWarning: numpy.dtype size changed, may indicate binary incompatibility. Expected 96, got 88\n",
      "  return f(*args, **kwds)\n",
      "/usr/lib/python3.5/importlib/_bootstrap.py:222: RuntimeWarning: numpy.dtype size changed, may indicate binary incompatibility. Expected 96, got 88\n",
      "  return f(*args, **kwds)\n"
     ]
    },
    {
     "name": "stdout",
     "output_type": "stream",
     "text": [
      "                                            Response Type of Response\n",
      "0  \\nFrom: Dick, Andrew <adick@letica.com> \\nSent...              Hot\n",
      "1  From: David.Joyce@pinkerton.com <David.Joyce@p...              Hot\n",
      "2  From: Derrick Brown <derrick.brown@csdental.co...              Hot\n",
      "3  From: Christopher Antao <cantao@kdc.org> \\nSen...              Hot\n",
      "4  From: Connor, Jennifer <Jennifer.Connor@lanthe...              Hot\n"
     ]
    }
   ],
   "source": [
    "from pandas import read_excel \n",
    "df = read_excel('Email Response Types.xlsx')\n",
    "print(df.head())"
   ]
  },
  {
   "cell_type": "code",
   "execution_count": 3,
   "metadata": {},
   "outputs": [],
   "source": [
    "df['Type of Response'].replace(['Hot', 'hot', 'Warm', 'warm', 'Cold', 'cold', 'Negative', 'negative'], [2,2,1,1,-1,-1,-2,-2], inplace  = True)\n"
   ]
  },
  {
   "cell_type": "code",
   "execution_count": 4,
   "metadata": {},
   "outputs": [
    {
     "data": {
      "text/html": [
       "<div>\n",
       "<style scoped>\n",
       "    .dataframe tbody tr th:only-of-type {\n",
       "        vertical-align: middle;\n",
       "    }\n",
       "\n",
       "    .dataframe tbody tr th {\n",
       "        vertical-align: top;\n",
       "    }\n",
       "\n",
       "    .dataframe thead th {\n",
       "        text-align: right;\n",
       "    }\n",
       "</style>\n",
       "<table border=\"1\" class=\"dataframe\">\n",
       "  <thead>\n",
       "    <tr style=\"text-align: right;\">\n",
       "      <th></th>\n",
       "      <th>Response</th>\n",
       "      <th>Type of Response</th>\n",
       "    </tr>\n",
       "  </thead>\n",
       "  <tbody>\n",
       "    <tr>\n",
       "      <th>0</th>\n",
       "      <td>\\nFrom: Dick, Andrew &lt;adick@letica.com&gt; \\nSent...</td>\n",
       "      <td>2</td>\n",
       "    </tr>\n",
       "    <tr>\n",
       "      <th>1</th>\n",
       "      <td>From: David.Joyce@pinkerton.com &lt;David.Joyce@p...</td>\n",
       "      <td>2</td>\n",
       "    </tr>\n",
       "    <tr>\n",
       "      <th>2</th>\n",
       "      <td>From: Derrick Brown &lt;derrick.brown@csdental.co...</td>\n",
       "      <td>2</td>\n",
       "    </tr>\n",
       "    <tr>\n",
       "      <th>3</th>\n",
       "      <td>From: Christopher Antao &lt;cantao@kdc.org&gt; \\nSen...</td>\n",
       "      <td>2</td>\n",
       "    </tr>\n",
       "    <tr>\n",
       "      <th>4</th>\n",
       "      <td>From: Connor, Jennifer &lt;Jennifer.Connor@lanthe...</td>\n",
       "      <td>2</td>\n",
       "    </tr>\n",
       "  </tbody>\n",
       "</table>\n",
       "</div>"
      ],
      "text/plain": [
       "                                            Response  Type of Response\n",
       "0  \\nFrom: Dick, Andrew <adick@letica.com> \\nSent...                 2\n",
       "1  From: David.Joyce@pinkerton.com <David.Joyce@p...                 2\n",
       "2  From: Derrick Brown <derrick.brown@csdental.co...                 2\n",
       "3  From: Christopher Antao <cantao@kdc.org> \\nSen...                 2\n",
       "4  From: Connor, Jennifer <Jennifer.Connor@lanthe...                 2"
      ]
     },
     "execution_count": 4,
     "metadata": {},
     "output_type": "execute_result"
    }
   ],
   "source": [
    "df.head()"
   ]
  },
  {
   "cell_type": "code",
   "execution_count": 5,
   "metadata": {},
   "outputs": [
    {
     "data": {
      "text/html": [
       "<div>\n",
       "<style scoped>\n",
       "    .dataframe tbody tr th:only-of-type {\n",
       "        vertical-align: middle;\n",
       "    }\n",
       "\n",
       "    .dataframe tbody tr th {\n",
       "        vertical-align: top;\n",
       "    }\n",
       "\n",
       "    .dataframe thead th {\n",
       "        text-align: right;\n",
       "    }\n",
       "</style>\n",
       "<table border=\"1\" class=\"dataframe\">\n",
       "  <thead>\n",
       "    <tr style=\"text-align: right;\">\n",
       "      <th></th>\n",
       "      <th>Response</th>\n",
       "      <th>Type of Response</th>\n",
       "    </tr>\n",
       "  </thead>\n",
       "  <tbody>\n",
       "    <tr>\n",
       "      <th>82</th>\n",
       "      <td>From: Donna Wright &lt;DWright@CCCINC.net&gt; \\nSent...</td>\n",
       "      <td>-2</td>\n",
       "    </tr>\n",
       "    <tr>\n",
       "      <th>83</th>\n",
       "      <td>From: Leslie Barrios &lt;leslie.barrios@bluebonne...</td>\n",
       "      <td>-2</td>\n",
       "    </tr>\n",
       "    <tr>\n",
       "      <th>84</th>\n",
       "      <td>From: Roy Jones &lt;roy.jones@georgetownmtg.com&gt; ...</td>\n",
       "      <td>-2</td>\n",
       "    </tr>\n",
       "    <tr>\n",
       "      <th>85</th>\n",
       "      <td>From: Jeff Holder &lt;JHolder@astech.com&gt; \\nSent:...</td>\n",
       "      <td>-2</td>\n",
       "    </tr>\n",
       "    <tr>\n",
       "      <th>86</th>\n",
       "      <td>From: Pat Cowles @PD &lt;PCowles@pape-dawson.com&gt;...</td>\n",
       "      <td>-2</td>\n",
       "    </tr>\n",
       "  </tbody>\n",
       "</table>\n",
       "</div>"
      ],
      "text/plain": [
       "                                             Response  Type of Response\n",
       "82  From: Donna Wright <DWright@CCCINC.net> \\nSent...                -2\n",
       "83  From: Leslie Barrios <leslie.barrios@bluebonne...                -2\n",
       "84  From: Roy Jones <roy.jones@georgetownmtg.com> ...                -2\n",
       "85  From: Jeff Holder <JHolder@astech.com> \\nSent:...                -2\n",
       "86  From: Pat Cowles @PD <PCowles@pape-dawson.com>...                -2"
      ]
     },
     "execution_count": 5,
     "metadata": {},
     "output_type": "execute_result"
    }
   ],
   "source": [
    "df.tail()"
   ]
  },
  {
   "cell_type": "code",
   "execution_count": 6,
   "metadata": {},
   "outputs": [
    {
     "name": "stdout",
     "output_type": "stream",
     "text": [
      "<class 'pandas.core.frame.DataFrame'>\n",
      "RangeIndex: 87 entries, 0 to 86\n",
      "Data columns (total 2 columns):\n",
      "Response            87 non-null object\n",
      "Type of Response    87 non-null int64\n",
      "dtypes: int64(1), object(1)\n",
      "memory usage: 1.4+ KB\n"
     ]
    }
   ],
   "source": [
    "df.info()"
   ]
  },
  {
   "cell_type": "code",
   "execution_count": 7,
   "metadata": {},
   "outputs": [],
   "source": [
    "from email.parser import Parser"
   ]
  },
  {
   "cell_type": "code",
   "execution_count": 8,
   "metadata": {},
   "outputs": [],
   "source": [
    "import pandas as pd\n",
    "import re\n",
    "email_body= []\n",
    "for R in df['Response']:\n",
    "    email = re.sub(r'(to\\:[^\\n]+\\n|from\\:[^\\n]+\\n|subject\\:[^\\n]+\\n|sent\\:[^\\n]+\\n|cc\\:[^\\n]+\\n)', '', R.lower(), re.U)\n",
    "    email_body.append(email)"
   ]
  },
  {
   "cell_type": "code",
   "execution_count": 9,
   "metadata": {},
   "outputs": [
    {
     "data": {
      "text/plain": [
       "0    \\n\\nhello kevin,\\ni have time later next week....\n",
       "1    \\nright now that time looks ok.\\n\\ndavid joyce...\n",
       "2    \\nmark, \\n\\ni am available in the afternoon fr...\n",
       "3    \\nit is year end.  please reach out after july...\n",
       "4    \\nhi kevin,\\n\\nthanks for reaching out.  we'd ...\n",
       "dtype: object"
      ]
     },
     "execution_count": 9,
     "metadata": {},
     "output_type": "execute_result"
    }
   ],
   "source": [
    "EmailBody = pd.Series(email_body)\n",
    "EmailBody.head()"
   ]
  },
  {
   "cell_type": "code",
   "execution_count": 10,
   "metadata": {},
   "outputs": [],
   "source": [
    "df['Response']=EmailBody"
   ]
  },
  {
   "cell_type": "code",
   "execution_count": 11,
   "metadata": {},
   "outputs": [
    {
     "data": {
      "text/html": [
       "<div>\n",
       "<style scoped>\n",
       "    .dataframe tbody tr th:only-of-type {\n",
       "        vertical-align: middle;\n",
       "    }\n",
       "\n",
       "    .dataframe tbody tr th {\n",
       "        vertical-align: top;\n",
       "    }\n",
       "\n",
       "    .dataframe thead th {\n",
       "        text-align: right;\n",
       "    }\n",
       "</style>\n",
       "<table border=\"1\" class=\"dataframe\">\n",
       "  <thead>\n",
       "    <tr style=\"text-align: right;\">\n",
       "      <th></th>\n",
       "      <th>Response</th>\n",
       "      <th>Type of Response</th>\n",
       "    </tr>\n",
       "  </thead>\n",
       "  <tbody>\n",
       "    <tr>\n",
       "      <th>0</th>\n",
       "      <td>\\n\\nhello kevin,\\ni have time later next week....</td>\n",
       "      <td>2</td>\n",
       "    </tr>\n",
       "    <tr>\n",
       "      <th>1</th>\n",
       "      <td>\\nright now that time looks ok.\\n\\ndavid joyce...</td>\n",
       "      <td>2</td>\n",
       "    </tr>\n",
       "    <tr>\n",
       "      <th>2</th>\n",
       "      <td>\\nmark, \\n\\ni am available in the afternoon fr...</td>\n",
       "      <td>2</td>\n",
       "    </tr>\n",
       "    <tr>\n",
       "      <th>3</th>\n",
       "      <td>\\nit is year end.  please reach out after july...</td>\n",
       "      <td>2</td>\n",
       "    </tr>\n",
       "    <tr>\n",
       "      <th>4</th>\n",
       "      <td>\\nhi kevin,\\n\\nthanks for reaching out.  we'd ...</td>\n",
       "      <td>2</td>\n",
       "    </tr>\n",
       "  </tbody>\n",
       "</table>\n",
       "</div>"
      ],
      "text/plain": [
       "                                            Response  Type of Response\n",
       "0  \\n\\nhello kevin,\\ni have time later next week....                 2\n",
       "1  \\nright now that time looks ok.\\n\\ndavid joyce...                 2\n",
       "2  \\nmark, \\n\\ni am available in the afternoon fr...                 2\n",
       "3  \\nit is year end.  please reach out after july...                 2\n",
       "4  \\nhi kevin,\\n\\nthanks for reaching out.  we'd ...                 2"
      ]
     },
     "execution_count": 11,
     "metadata": {},
     "output_type": "execute_result"
    }
   ],
   "source": [
    "df.head()"
   ]
  },
  {
   "cell_type": "code",
   "execution_count": 12,
   "metadata": {},
   "outputs": [
    {
     "name": "stderr",
     "output_type": "stream",
     "text": [
      "/usr/lib/python3.5/importlib/_bootstrap.py:222: RuntimeWarning: numpy.dtype size changed, may indicate binary incompatibility. Expected 96, got 88\n",
      "  return f(*args, **kwds)\n",
      "Using TensorFlow backend.\n",
      "/usr/lib/python3.5/importlib/_bootstrap.py:222: RuntimeWarning: numpy.dtype size changed, may indicate binary incompatibility. Expected 96, got 88\n",
      "  return f(*args, **kwds)\n",
      "/usr/lib/python3.5/importlib/_bootstrap.py:222: RuntimeWarning: numpy.dtype size changed, may indicate binary incompatibility. Expected 96, got 88\n",
      "  return f(*args, **kwds)\n"
     ]
    }
   ],
   "source": [
    "from keras.preprocessing.text import Tokenizer\n",
    "from keras.preprocessing.sequence import pad_sequences\n",
    "import numpy as np"
   ]
  },
  {
   "cell_type": "code",
   "execution_count": 13,
   "metadata": {},
   "outputs": [
    {
     "name": "stdout",
     "output_type": "stream",
     "text": [
      "Found 996 unique tokens.\n",
      "Shape of data tensor: (87, 15)\n",
      "Shape of label tensor: (87,)\n"
     ]
    }
   ],
   "source": [
    "texts= email_body\n",
    "labels= df['Type of Response']\n",
    "maxlen = 15  # We will cut the string after 15 words\n",
    "max_words = 500  # We will only consider the top 500 words in the dataset\n",
    "\n",
    "tokenizer = Tokenizer(num_words=max_words)\n",
    "tokenizer.fit_on_texts(texts)\n",
    "sequences = tokenizer.texts_to_sequences(texts)\n",
    "\n",
    "word_index = tokenizer.word_index\n",
    "print('Found %s unique tokens.' % len(word_index))\n",
    "\n",
    "data = pad_sequences(sequences, maxlen=maxlen)\n",
    "\n",
    "labels = np.asarray(labels)\n",
    "print('Shape of data tensor:', data.shape)\n",
    "print('Shape of label tensor:', labels.shape)\n",
    "\n",
    "# Split the data into a training set and a validation set\n",
    "# But first, shuffle the data, since we started from data\n",
    "# where samples are ordered (almost).\n",
    "indices = np.arange(data.shape[0])\n",
    "np.random.shuffle(indices)\n",
    "data = data[indices]\n",
    "labels = labels[indices]\n"
   ]
  },
  {
   "cell_type": "code",
   "execution_count": 35,
   "metadata": {},
   "outputs": [],
   "source": [
    "x_train = data\n",
    "y_train = labels"
   ]
  },
  {
   "cell_type": "code",
   "execution_count": 36,
   "metadata": {
    "scrolled": true
   },
   "outputs": [
    {
     "name": "stdout",
     "output_type": "stream",
     "text": [
      "(87, 15) (87, 3)\n"
     ]
    }
   ],
   "source": [
    "from keras.utils import to_categorical\n",
    "y_train = to_categorical(y_train)\n",
    "\n",
    "\n",
    "print(x_train.shape, y_train.shape)"
   ]
  },
  {
   "cell_type": "code",
   "execution_count": 16,
   "metadata": {},
   "outputs": [
    {
     "name": "stdout",
     "output_type": "stream",
     "text": [
      "Found 400000 word vectors.\n"
     ]
    }
   ],
   "source": [
    "import os\n",
    "embeddings_index = {}\n",
    "f = open('glove.6B.100d.txt')\n",
    "for line in f:\n",
    "    values = line.split()\n",
    "    word = values[0]\n",
    "    coefs = np.asarray(values[1:], dtype='float32')\n",
    "    embeddings_index[word] = coefs\n",
    "f.close()\n",
    "\n",
    "print('Found %s word vectors.' % len(embeddings_index))\n"
   ]
  },
  {
   "cell_type": "code",
   "execution_count": 40,
   "metadata": {},
   "outputs": [],
   "source": [
    "embedding_dim = 100\n",
    "\n",
    "embedding_matrix = np.zeros((max_words, embedding_dim))\n",
    "for word, i in word_index.items():\n",
    "    embedding_vector = embeddings_index.get(word)\n",
    "    if i < max_words:\n",
    "        if embedding_vector is not None:\n",
    "            # Words not found in embedding index will be all-zeros.\n",
    "            embedding_matrix[i] = embedding_vector"
   ]
  },
  {
   "cell_type": "code",
   "execution_count": 41,
   "metadata": {},
   "outputs": [
    {
     "name": "stdout",
     "output_type": "stream",
     "text": [
      "_________________________________________________________________\n",
      "Layer (type)                 Output Shape              Param #   \n",
      "=================================================================\n",
      "embedding_6 (Embedding)      (None, 15, 100)           50000     \n",
      "_________________________________________________________________\n",
      "flatten_2 (Flatten)          (None, 1500)              0         \n",
      "_________________________________________________________________\n",
      "dense_7 (Dense)              (None, 32)                48032     \n",
      "_________________________________________________________________\n",
      "dropout_2 (Dropout)          (None, 32)                0         \n",
      "_________________________________________________________________\n",
      "dense_8 (Dense)              (None, 3)                 99        \n",
      "=================================================================\n",
      "Total params: 98,131\n",
      "Trainable params: 98,131\n",
      "Non-trainable params: 0\n",
      "_________________________________________________________________\n"
     ]
    }
   ],
   "source": [
    "from keras.models import Sequential\n",
    "from keras.layers import Embedding, Flatten, Dense, Dropout\n",
    "from keras import regularizers\n",
    "\n",
    "model = Sequential()\n",
    "model.add(Embedding(max_words, embedding_dim, input_length=maxlen))\n",
    "model.add(Flatten())\n",
    "model.add(Dense(32,kernel_regularizer=regularizers.l2(0.001), activation='relu'))\n",
    "model.add(Dropout(0.5))\n",
    "model.add(Dense(3, activation='softmax'))\n",
    "model.summary()"
   ]
  },
  {
   "cell_type": "code",
   "execution_count": 42,
   "metadata": {},
   "outputs": [],
   "source": [
    "model.layers[0].set_weights([embedding_matrix])\n",
    "model.layers[0].trainable = False"
   ]
  },
  {
   "cell_type": "code",
   "execution_count": 43,
   "metadata": {},
   "outputs": [
    {
     "name": "stdout",
     "output_type": "stream",
     "text": [
      "Train on 69 samples, validate on 18 samples\n",
      "Epoch 1/10\n",
      "69/69 [==============================] - 1s 20ms/step - loss: 0.9937 - acc: 0.4783 - val_loss: 0.8630 - val_acc: 0.4444\n",
      "Epoch 2/10\n",
      "69/69 [==============================] - 0s 232us/step - loss: 0.8554 - acc: 0.6087 - val_loss: 0.9813 - val_acc: 0.4444\n",
      "Epoch 3/10\n",
      "69/69 [==============================] - 0s 270us/step - loss: 0.7132 - acc: 0.6812 - val_loss: 0.7458 - val_acc: 0.5000\n",
      "Epoch 4/10\n",
      "69/69 [==============================] - 0s 386us/step - loss: 0.5679 - acc: 0.7681 - val_loss: 0.6691 - val_acc: 0.7222\n",
      "Epoch 5/10\n",
      "69/69 [==============================] - 0s 254us/step - loss: 0.4305 - acc: 0.8696 - val_loss: 0.7829 - val_acc: 0.5000\n",
      "Epoch 6/10\n",
      "69/69 [==============================] - 0s 294us/step - loss: 0.4314 - acc: 0.8406 - val_loss: 0.8532 - val_acc: 0.5000\n",
      "Epoch 7/10\n",
      "69/69 [==============================] - 0s 288us/step - loss: 0.3961 - acc: 0.8551 - val_loss: 0.6946 - val_acc: 0.5556\n",
      "Epoch 8/10\n",
      "69/69 [==============================] - 0s 324us/step - loss: 0.3909 - acc: 0.8841 - val_loss: 0.6456 - val_acc: 0.7222\n",
      "Epoch 9/10\n",
      "69/69 [==============================] - 0s 324us/step - loss: 0.3160 - acc: 0.9275 - val_loss: 0.7400 - val_acc: 0.5000\n",
      "Epoch 10/10\n",
      "69/69 [==============================] - 0s 270us/step - loss: 0.3370 - acc: 0.9420 - val_loss: 0.8031 - val_acc: 0.5000\n"
     ]
    }
   ],
   "source": [
    "model.compile(optimizer='rmsprop',\n",
    "              loss='categorical_crossentropy',\n",
    "              metrics=['acc'])\n",
    "history = model.fit(x_train, y_train,\n",
    "                    epochs=10,\n",
    "                    batch_size=32,\n",
    "                    validation_split=0.2)\n",
    "model.save_weights('pre_trained_glove_model.h5')"
   ]
  },
  {
   "cell_type": "code",
   "execution_count": 44,
   "metadata": {
    "scrolled": true
   },
   "outputs": [
    {
     "data": {
      "image/png": "[encoded data removed]",
      "text/plain": [
       "<Figure size 432x288 with 1 Axes>"
      ]
     },
     "metadata": {},
     "output_type": "display_data"
    },
    {
     "data": {
      "image/png": "[encoded data removed]",
      "text/plain": [
       "<Figure size 432x288 with 1 Axes>"
      ]
     },
     "metadata": {},
     "output_type": "display_data"
    }
   ],
   "source": [
    "import matplotlib.pyplot as plt\n",
    "%matplotlib inline\n",
    "\n",
    "acc = history.history['acc']\n",
    "val_acc = history.history['val_acc']\n",
    "loss = history.history['loss']\n",
    "val_loss = history.history['val_loss']\n",
    "\n",
    "epochs = range(1, len(acc) + 1)\n",
    "\n",
    "plt.plot(epochs, acc, 'bo', label='Training acc')\n",
    "plt.plot(epochs, val_acc, 'b', label='Validation acc')\n",
    "plt.title('Training and validation accuracy')\n",
    "plt.legend()\n",
    "\n",
    "plt.figure()\n",
    "\n",
    "plt.plot(epochs, loss, 'bo', label='Training loss')\n",
    "plt.plot(epochs, val_loss, 'b', label='Validation loss')\n",
    "plt.title('Training and validation loss')\n",
    "plt.legend()\n",
    "\n",
    "plt.show()"
   ]
  },
  {
   "cell_type": "code",
   "execution_count": 23,
   "metadata": {},
   "outputs": [],
   "source": [
    "x_train = data\n",
    "y_train = labels\n",
    "y_train = to_categorical(y_train)"
   ]
  },
  {
   "cell_type": "code",
   "execution_count": 24,
   "metadata": {
    "scrolled": true
   },
   "outputs": [
    {
     "name": "stdout",
     "output_type": "stream",
     "text": [
      "Train on 69 samples, validate on 18 samples\n",
      "Epoch 1/10\n",
      "69/69 [==============================] - 1s 9ms/step - loss: 1.1103 - acc: 0.4348 - val_loss: 0.8906 - val_acc: 0.5556\n",
      "Epoch 2/10\n",
      "69/69 [==============================] - 0s 264us/step - loss: 0.9136 - acc: 0.5362 - val_loss: 0.8340 - val_acc: 0.6111\n",
      "Epoch 3/10\n",
      "69/69 [==============================] - 0s 264us/step - loss: 0.8159 - acc: 0.5507 - val_loss: 0.8078 - val_acc: 0.5556\n",
      "Epoch 4/10\n",
      "69/69 [==============================] - 0s 266us/step - loss: 0.7497 - acc: 0.6232 - val_loss: 0.7879 - val_acc: 0.6111\n",
      "Epoch 5/10\n",
      "69/69 [==============================] - 0s 263us/step - loss: 0.6992 - acc: 0.6812 - val_loss: 0.7746 - val_acc: 0.6111\n",
      "Epoch 6/10\n",
      "69/69 [==============================] - 0s 269us/step - loss: 0.6579 - acc: 0.6957 - val_loss: 0.7648 - val_acc: 0.6111\n",
      "Epoch 7/10\n",
      "69/69 [==============================] - 0s 267us/step - loss: 0.6226 - acc: 0.7101 - val_loss: 0.7570 - val_acc: 0.6667\n",
      "Epoch 8/10\n",
      "69/69 [==============================] - 0s 221us/step - loss: 0.5914 - acc: 0.7246 - val_loss: 0.7508 - val_acc: 0.6111\n",
      "Epoch 9/10\n",
      "69/69 [==============================] - 0s 271us/step - loss: 0.5631 - acc: 0.7391 - val_loss: 0.7459 - val_acc: 0.6111\n",
      "Epoch 10/10\n",
      "69/69 [==============================] - 0s 283us/step - loss: 0.5370 - acc: 0.7681 - val_loss: 0.7420 - val_acc: 0.6111\n"
     ]
    }
   ],
   "source": [
    "from keras.layers import Embedding, SimpleRNN\n",
    "\n",
    "max_features = 500  # number of words to consider as features\n",
    "model = Sequential()\n",
    "model.add(Embedding(max_words, embedding_dim, input_length=maxlen))\n",
    "model.add(SimpleRNN(32))\n",
    "model.add(Dense(3, activation='softmax'))\n",
    "model.layers[0].set_weights([embedding_matrix])\n",
    "model.layers[0].trainable = False\n",
    "\n",
    "model.compile(optimizer='rmsprop', loss='categorical_crossentropy', metrics=['acc'])\n",
    "history = model.fit(x_train, y_train,\n",
    "                    epochs=10,\n",
    "                    batch_size=128,\n",
    "                    validation_split=0.2)\n"
   ]
  },
  {
   "cell_type": "code",
   "execution_count": 25,
   "metadata": {},
   "outputs": [
    {
     "data": {
      "image/png": "[encoded data removed]",
      "text/plain": [
       "<Figure size 432x288 with 1 Axes>"
      ]
     },
     "metadata": {},
     "output_type": "display_data"
    },
    {
     "data": {
      "image/png": "[encoded data removed]",
      "text/plain": [
       "<Figure size 432x288 with 1 Axes>"
      ]
     },
     "metadata": {},
     "output_type": "display_data"
    }
   ],
   "source": [
    "import matplotlib.pyplot as plt\n",
    "\n",
    "acc = history.history['acc']\n",
    "val_acc = history.history['val_acc']\n",
    "loss = history.history['loss']\n",
    "val_loss = history.history['val_loss']\n",
    "\n",
    "epochs = range(len(acc))\n",
    "\n",
    "plt.plot(epochs, acc, 'bo', label='Training acc')\n",
    "plt.plot(epochs, val_acc, 'b', label='Validation acc')\n",
    "plt.title('Training and validation accuracy')\n",
    "plt.legend()\n",
    "\n",
    "plt.figure()\n",
    "\n",
    "plt.plot(epochs, loss, 'bo', label='Training loss')\n",
    "plt.plot(epochs, val_loss, 'b', label='Validation loss')\n",
    "plt.title('Training and validation loss')\n",
    "plt.legend()\n",
    "\n",
    "plt.show()"
   ]
  },
  {
   "cell_type": "code",
   "execution_count": 26,
   "metadata": {},
   "outputs": [
    {
     "name": "stdout",
     "output_type": "stream",
     "text": [
      "Train on 69 samples, validate on 18 samples\n",
      "Epoch 1/10\n",
      "69/69 [==============================] - 2s 23ms/step - loss: 1.1121 - acc: 0.3913 - val_loss: 0.8927 - val_acc: 0.6667\n",
      "Epoch 2/10\n",
      "69/69 [==============================] - 0s 520us/step - loss: 0.9615 - acc: 0.5652 - val_loss: 0.8412 - val_acc: 0.7222\n",
      "Epoch 3/10\n",
      "69/69 [==============================] - 0s 559us/step - loss: 0.8878 - acc: 0.6377 - val_loss: 0.8039 - val_acc: 0.7778\n",
      "Epoch 4/10\n",
      "69/69 [==============================] - 0s 478us/step - loss: 0.8339 - acc: 0.6957 - val_loss: 0.7767 - val_acc: 0.7778\n",
      "Epoch 5/10\n",
      "69/69 [==============================] - 0s 601us/step - loss: 0.7911 - acc: 0.6957 - val_loss: 0.7552 - val_acc: 0.7222\n",
      "Epoch 6/10\n",
      "69/69 [==============================] - 0s 698us/step - loss: 0.7552 - acc: 0.7391 - val_loss: 0.7376 - val_acc: 0.6667\n",
      "Epoch 7/10\n",
      "69/69 [==============================] - 0s 616us/step - loss: 0.7246 - acc: 0.7826 - val_loss: 0.7229 - val_acc: 0.7222\n",
      "Epoch 8/10\n",
      "69/69 [==============================] - 0s 695us/step - loss: 0.6974 - acc: 0.7971 - val_loss: 0.7098 - val_acc: 0.7222\n",
      "Epoch 9/10\n",
      "69/69 [==============================] - 0s 619us/step - loss: 0.6727 - acc: 0.8116 - val_loss: 0.6981 - val_acc: 0.6667\n",
      "Epoch 10/10\n",
      "69/69 [==============================] - 0s 603us/step - loss: 0.6494 - acc: 0.8116 - val_loss: 0.6867 - val_acc: 0.6667\n"
     ]
    }
   ],
   "source": [
    "from keras.layers import LSTM\n",
    "\n",
    "model = Sequential()\n",
    "model.add(Embedding(max_words, embedding_dim, input_length=maxlen))\n",
    "model.add(LSTM(32))\n",
    "model.add(Dense(3, activation='softmax'))\n",
    "model.layers[0].set_weights([embedding_matrix])\n",
    "model.layers[0].trainable = False\n",
    "model.compile(optimizer='rmsprop',\n",
    "              loss='categorical_crossentropy',\n",
    "              metrics=['acc'])\n",
    "history = model.fit(x_train, y_train,\n",
    "                    epochs=10,\n",
    "                    batch_size=128,\n",
    "                    validation_split=0.2)\n"
   ]
  },
  {
   "cell_type": "code",
   "execution_count": 27,
   "metadata": {},
   "outputs": [
    {
     "data": {
      "image/png": "[encoded data removed]",
      "text/plain": [
       "<Figure size 432x288 with 1 Axes>"
      ]
     },
     "metadata": {},
     "output_type": "display_data"
    },
    {
     "data": {
      "image/png": "[encoded data removed]",
      "text/plain": [
       "<Figure size 432x288 with 1 Axes>"
      ]
     },
     "metadata": {},
     "output_type": "display_data"
    }
   ],
   "source": [
    "\n",
    "\n",
    "acc = history.history['acc']\n",
    "val_acc = history.history['val_acc']\n",
    "loss = history.history['loss']\n",
    "val_loss = history.history['val_loss']\n",
    "\n",
    "epochs = range(len(acc))\n",
    "\n",
    "plt.plot(epochs, acc, 'bo', label='Training acc')\n",
    "plt.plot(epochs, val_acc, 'b', label='Validation acc')\n",
    "plt.title('Training and validation accuracy')\n",
    "plt.legend()\n",
    "\n",
    "plt.figure()\n",
    "\n",
    "plt.plot(epochs, loss, 'bo', label='Training loss')\n",
    "plt.plot(epochs, val_loss, 'b', label='Validation loss')\n",
    "plt.title('Training and validation loss')\n",
    "plt.legend()\n",
    "\n",
    "plt.show()\n",
    "\n"
   ]
  },
  {
   "cell_type": "code",
   "execution_count": 28,
   "metadata": {},
   "outputs": [],
   "source": [
    "from keras import layers\n",
    "model = Sequential()\n",
    "model.add(layers.Embedding(max_words, embedding_dim, input_length=maxlen))\n",
    "model.add(layers.Bidirectional(layers.LSTM(32)))\n",
    "model.add(layers.Dense(3, activation='softmax'))\n",
    "model.layers[0].set_weights([embedding_matrix])\n",
    "model.layers[0].trainable = False"
   ]
  },
  {
   "cell_type": "code",
   "execution_count": 29,
   "metadata": {},
   "outputs": [
    {
     "name": "stdout",
     "output_type": "stream",
     "text": [
      "Train on 69 samples, validate on 18 samples\n",
      "Epoch 1/10\n",
      "69/69 [==============================] - 3s 49ms/step - loss: 0.6727 - acc: 0.6667 - val_loss: 0.5893 - val_acc: 0.7222\n",
      "Epoch 2/10\n",
      "69/69 [==============================] - 0s 1ms/step - loss: 0.5371 - acc: 0.7536 - val_loss: 0.5359 - val_acc: 0.7407\n",
      "Epoch 3/10\n",
      "69/69 [==============================] - 0s 1ms/step - loss: 0.4961 - acc: 0.7633 - val_loss: 0.5371 - val_acc: 0.7037\n",
      "Epoch 4/10\n",
      "69/69 [==============================] - 0s 1ms/step - loss: 0.4774 - acc: 0.7585 - val_loss: 0.5623 - val_acc: 0.6296\n",
      "Epoch 5/10\n",
      "69/69 [==============================] - 0s 1ms/step - loss: 0.4753 - acc: 0.7585 - val_loss: 0.5060 - val_acc: 0.7037\n",
      "Epoch 6/10\n",
      "69/69 [==============================] - 0s 1ms/step - loss: 0.4351 - acc: 0.7826 - val_loss: 0.5113 - val_acc: 0.6296\n",
      "Epoch 7/10\n",
      "69/69 [==============================] - 0s 1ms/step - loss: 0.4247 - acc: 0.7778 - val_loss: 0.4845 - val_acc: 0.7593\n",
      "Epoch 8/10\n",
      "69/69 [==============================] - 0s 1ms/step - loss: 0.4241 - acc: 0.8261 - val_loss: 0.4795 - val_acc: 0.7222\n",
      "Epoch 9/10\n",
      "69/69 [==============================] - 0s 2ms/step - loss: 0.4013 - acc: 0.8357 - val_loss: 0.5182 - val_acc: 0.6296\n",
      "Epoch 10/10\n",
      "69/69 [==============================] - 0s 1ms/step - loss: 0.4045 - acc: 0.7585 - val_loss: 0.4683 - val_acc: 0.7037\n"
     ]
    }
   ],
   "source": [
    "model.compile(optimizer='rmsprop', loss='binary_crossentropy', metrics=['acc'])\n",
    "history = model.fit(x_train, y_train,\n",
    "epochs=10,\n",
    "batch_size=64,\n",
    "validation_split=0.2)"
   ]
  },
  {
   "cell_type": "code",
   "execution_count": 30,
   "metadata": {},
   "outputs": [
    {
     "data": {
      "image/png": "[encoded data removed]",
      "text/plain": [
       "<Figure size 432x288 with 1 Axes>"
      ]
     },
     "metadata": {},
     "output_type": "display_data"
    },
    {
     "data": {
      "image/png": "[encoded data removed]",
      "text/plain": [
       "<Figure size 432x288 with 1 Axes>"
      ]
     },
     "metadata": {},
     "output_type": "display_data"
    }
   ],
   "source": [
    "\n",
    "acc = history.history['acc']\n",
    "val_acc = history.history['val_acc']\n",
    "loss = history.history['loss']\n",
    "val_loss = history.history['val_loss']\n",
    "\n",
    "epochs = range(len(acc))\n",
    "\n",
    "plt.plot(epochs, acc, 'bo', label='Training acc')\n",
    "plt.plot(epochs, val_acc, 'b', label='Validation acc')\n",
    "plt.title('Training and validation accuracy')\n",
    "plt.legend()\n",
    "\n",
    "plt.figure()\n",
    "\n",
    "plt.plot(epochs, loss, 'bo', label='Training loss')\n",
    "plt.plot(epochs, val_loss, 'b', label='Validation loss')\n",
    "plt.title('Training and validation loss')\n",
    "plt.legend()\n",
    "\n",
    "plt.show()"
   ]
  },
  {
   "cell_type": "code",
   "execution_count": 31,
   "metadata": {},
   "outputs": [
    {
     "name": "stdout",
     "output_type": "stream",
     "text": [
      "Pad sequences (samples x time)\n",
      "x_train shape: (87, 15)\n"
     ]
    }
   ],
   "source": [
    "print('Pad sequences (samples x time)')\n",
    "x_train = pad_sequences(sequences, maxlen=maxlen)\n",
    "\n",
    "print('x_train shape:', x_train.shape)\n"
   ]
  },
  {
   "cell_type": "code",
   "execution_count": 50,
   "metadata": {},
   "outputs": [
    {
     "name": "stdout",
     "output_type": "stream",
     "text": [
      "_________________________________________________________________\n",
      "Layer (type)                 Output Shape              Param #   \n",
      "=================================================================\n",
      "embedding_10 (Embedding)     (None, 15, 100)           50000     \n",
      "_________________________________________________________________\n",
      "conv1d_9 (Conv1D)            (None, 13, 32)            9632      \n",
      "_________________________________________________________________\n",
      "max_pooling1d_5 (MaxPooling1 (None, 4, 32)             0         \n",
      "_________________________________________________________________\n",
      "conv1d_10 (Conv1D)           (None, 2, 32)             3104      \n",
      "_________________________________________________________________\n",
      "global_max_pooling1d_4 (Glob (None, 32)                0         \n",
      "_________________________________________________________________\n",
      "dense_11 (Dense)             (None, 3)                 99        \n",
      "=================================================================\n",
      "Total params: 62,835\n",
      "Trainable params: 62,835\n",
      "Non-trainable params: 0\n",
      "_________________________________________________________________\n"
     ]
    }
   ],
   "source": [
    "from keras.models import Sequential\n",
    "from keras import layers\n",
    "from keras.optimizers import RMSprop\n",
    "model = Sequential()\n",
    "model.add(layers.Embedding(max_features, 100, input_length=maxlen))\n",
    "model.add(layers.Conv1D(32, 3, activation='relu'))\n",
    "model.add(layers.MaxPooling1D(3))\n",
    "model.add(layers.Conv1D(32, 3, activation='relu'))\n",
    "model.add(layers.GlobalMaxPooling1D())\n",
    "model.add(layers.Dense(3))\n",
    "model.summary()\n",
    "model.layers[0].set_weights([embedding_matrix])\n",
    "model.layers[0].trainable = False"
   ]
  },
  {
   "cell_type": "code",
   "execution_count": 51,
   "metadata": {},
   "outputs": [
    {
     "name": "stdout",
     "output_type": "stream",
     "text": [
      "Train on 69 samples, validate on 18 samples\n",
      "Epoch 1/10\n",
      "69/69 [==============================] - 1s 22ms/step - loss: 3.5411 - acc: 0.4976 - val_loss: 3.0468 - val_acc: 0.5000\n",
      "Epoch 2/10\n",
      "69/69 [==============================] - 0s 149us/step - loss: 2.9560 - acc: 0.4686 - val_loss: 2.3286 - val_acc: 0.4815\n",
      "Epoch 3/10\n",
      "69/69 [==============================] - 0s 200us/step - loss: 2.7394 - acc: 0.4493 - val_loss: 2.2518 - val_acc: 0.4630\n",
      "Epoch 4/10\n",
      "69/69 [==============================] - 0s 202us/step - loss: 2.4142 - acc: 0.4493 - val_loss: 1.9780 - val_acc: 0.4815\n",
      "Epoch 5/10\n",
      "69/69 [==============================] - 0s 208us/step - loss: 1.9455 - acc: 0.4541 - val_loss: 1.5707 - val_acc: 0.5000\n",
      "Epoch 6/10\n",
      "69/69 [==============================] - 0s 178us/step - loss: 1.6290 - acc: 0.4444 - val_loss: 0.7767 - val_acc: 0.4630\n",
      "Epoch 7/10\n",
      "69/69 [==============================] - 0s 230us/step - loss: 1.4798 - acc: 0.4541 - val_loss: 0.6744 - val_acc: 0.4630\n",
      "Epoch 8/10\n",
      "69/69 [==============================] - 0s 200us/step - loss: 1.2623 - acc: 0.4589 - val_loss: 0.6435 - val_acc: 0.4630\n",
      "Epoch 9/10\n",
      "69/69 [==============================] - 0s 151us/step - loss: 1.1723 - acc: 0.4444 - val_loss: 0.6109 - val_acc: 0.4259\n",
      "Epoch 10/10\n",
      "69/69 [==============================] - 0s 224us/step - loss: 1.0896 - acc: 0.4493 - val_loss: 0.6066 - val_acc: 0.4259\n"
     ]
    }
   ],
   "source": [
    "model.compile(optimizer=RMSprop(lr=1e-4),\n",
    "loss='binary_crossentropy',\n",
    "metrics=['acc'])\n",
    "history = model.fit(x_train, y_train,\n",
    "epochs=10,\n",
    "batch_size=128,\n",
    "validation_split=0.2)"
   ]
  },
  {
   "cell_type": "code",
   "execution_count": 52,
   "metadata": {},
   "outputs": [
    {
     "data": {
      "image/png": "[encoded data removed]",
      "text/plain": [
       "<Figure size 432x288 with 1 Axes>"
      ]
     },
     "metadata": {},
     "output_type": "display_data"
    },
    {
     "data": {
      "image/png": "[encoded data removed]",
      "text/plain": [
       "<Figure size 432x288 with 1 Axes>"
      ]
     },
     "metadata": {},
     "output_type": "display_data"
    }
   ],
   "source": [
    "acc = history.history['acc']\n",
    "val_acc = history.history['val_acc']\n",
    "loss = history.history['loss']\n",
    "val_loss = history.history['val_loss']\n",
    "\n",
    "epochs = range(len(acc))\n",
    "\n",
    "plt.plot(epochs, acc, 'bo', label='Training acc')\n",
    "plt.plot(epochs, val_acc, 'b', label='Validation acc')\n",
    "plt.title('Training and validation accuracy')\n",
    "plt.legend()\n",
    "\n",
    "plt.figure()\n",
    "\n",
    "plt.plot(epochs, loss, 'bo', label='Training loss')\n",
    "plt.plot(epochs, val_loss, 'b', label='Validation loss')\n",
    "plt.title('Training and validation loss')\n",
    "plt.legend()\n",
    "\n",
    "plt.show()"
   ]
  },
  {
   "cell_type": "code",
   "execution_count": null,
   "metadata": {},
   "outputs": [],
   "source": []
  },
  {
   "cell_type": "code",
   "execution_count": null,
   "metadata": {},
   "outputs": [],
   "source": []
  },
  {
   "cell_type": "code",
   "execution_count": null,
   "metadata": {},
   "outputs": [],
   "source": []
  }
 ],
 "metadata": {
  "kernelspec": {
   "display_name": "Python 3",
   "language": "python",
   "name": "python3"
  },
  "language_info": {
   "codemirror_mode": {
    "name": "ipython",
    "version": 3
   },
   "file_extension": ".py",
   "mimetype": "text/x-python",
   "name": "python",
   "nbconvert_exporter": "python",
   "pygments_lexer": "ipython3",
   "version": "3.5.2"
  }
 },
 "nbformat": 4,
 "nbformat_minor": 2
}
