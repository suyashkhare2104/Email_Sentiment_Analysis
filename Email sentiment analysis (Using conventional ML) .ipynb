{
 "cells": [
  {
   "cell_type": "code",
   "execution_count": 1,
   "metadata": {},
   "outputs": [
    {
     "name": "stderr",
     "output_type": "stream",
     "text": [
      "/usr/lib/python3.5/importlib/_bootstrap.py:222: RuntimeWarning: numpy.dtype size changed, may indicate binary incompatibility. Expected 96, got 88\n",
      "  return f(*args, **kwds)\n",
      "/usr/lib/python3.5/importlib/_bootstrap.py:222: RuntimeWarning: numpy.dtype size changed, may indicate binary incompatibility. Expected 96, got 88\n",
      "  return f(*args, **kwds)\n"
     ]
    },
    {
     "name": "stdout",
     "output_type": "stream",
     "text": [
      "                                            Response Type of Response\n",
      "0  \\nFrom: Dick, Andrew <adick@letica.com> \\nSent...              Hot\n",
      "1  From: David.Joyce@pinkerton.com <David.Joyce@p...              Hot\n",
      "2  From: Derrick Brown <derrick.brown@csdental.co...              Hot\n",
      "3  From: Christopher Antao <cantao@kdc.org> \\nSen...              Hot\n",
      "4  From: Connor, Jennifer <Jennifer.Connor@lanthe...              Hot\n"
     ]
    }
   ],
   "source": [
    "from pandas import read_excel \n",
    "df = read_excel('Email Response Types.xlsx')\n",
    "print(df.head())"
   ]
  },
  {
   "cell_type": "code",
   "execution_count": 2,
   "metadata": {},
   "outputs": [
    {
     "data": {
      "text/html": [
       "<div>\n",
       "<style scoped>\n",
       "    .dataframe tbody tr th:only-of-type {\n",
       "        vertical-align: middle;\n",
       "    }\n",
       "\n",
       "    .dataframe tbody tr th {\n",
       "        vertical-align: top;\n",
       "    }\n",
       "\n",
       "    .dataframe thead th {\n",
       "        text-align: right;\n",
       "    }\n",
       "</style>\n",
       "<table border=\"1\" class=\"dataframe\">\n",
       "  <thead>\n",
       "    <tr style=\"text-align: right;\">\n",
       "      <th></th>\n",
       "      <th>Response</th>\n",
       "      <th>Type of Response</th>\n",
       "    </tr>\n",
       "  </thead>\n",
       "  <tbody>\n",
       "    <tr>\n",
       "      <th>0</th>\n",
       "      <td>\\nFrom: Dick, Andrew &lt;adick@letica.com&gt; \\nSent...</td>\n",
       "      <td>Hot</td>\n",
       "    </tr>\n",
       "    <tr>\n",
       "      <th>1</th>\n",
       "      <td>From: David.Joyce@pinkerton.com &lt;David.Joyce@p...</td>\n",
       "      <td>Hot</td>\n",
       "    </tr>\n",
       "    <tr>\n",
       "      <th>2</th>\n",
       "      <td>From: Derrick Brown &lt;derrick.brown@csdental.co...</td>\n",
       "      <td>Hot</td>\n",
       "    </tr>\n",
       "    <tr>\n",
       "      <th>3</th>\n",
       "      <td>From: Christopher Antao &lt;cantao@kdc.org&gt; \\nSen...</td>\n",
       "      <td>Hot</td>\n",
       "    </tr>\n",
       "    <tr>\n",
       "      <th>4</th>\n",
       "      <td>From: Connor, Jennifer &lt;Jennifer.Connor@lanthe...</td>\n",
       "      <td>Hot</td>\n",
       "    </tr>\n",
       "  </tbody>\n",
       "</table>\n",
       "</div>"
      ],
      "text/plain": [
       "                                            Response Type of Response\n",
       "0  \\nFrom: Dick, Andrew <adick@letica.com> \\nSent...              Hot\n",
       "1  From: David.Joyce@pinkerton.com <David.Joyce@p...              Hot\n",
       "2  From: Derrick Brown <derrick.brown@csdental.co...              Hot\n",
       "3  From: Christopher Antao <cantao@kdc.org> \\nSen...              Hot\n",
       "4  From: Connor, Jennifer <Jennifer.Connor@lanthe...              Hot"
      ]
     },
     "execution_count": 2,
     "metadata": {},
     "output_type": "execute_result"
    }
   ],
   "source": [
    "df.head()"
   ]
  },
  {
   "cell_type": "code",
   "execution_count": 3,
   "metadata": {},
   "outputs": [],
   "source": [
    "import pandas as pd\n",
    "import re\n",
    "email_body= []\n",
    "for R in df['Response']:\n",
    "    email = re.sub(r'(to\\:[^\\n]+\\n|from\\:[^\\n]+\\n|subject\\:[^\\n]+\\n|sent\\:[^\\n]+\\n|cc\\:[^\\n]+\\n)', '', R.lower(), re.U)\n",
    "    email_body.append(email)\n",
    "EmailBody = pd.Series(email_body)\n",
    "EmailBody.head()\n",
    "\n",
    "a =df['Type of Response'].str.lower()\n",
    "df['Type of Response']= a"
   ]
  },
  {
   "cell_type": "code",
   "execution_count": 4,
   "metadata": {},
   "outputs": [
    {
     "data": {
      "text/html": [
       "<div>\n",
       "<style scoped>\n",
       "    .dataframe tbody tr th:only-of-type {\n",
       "        vertical-align: middle;\n",
       "    }\n",
       "\n",
       "    .dataframe tbody tr th {\n",
       "        vertical-align: top;\n",
       "    }\n",
       "\n",
       "    .dataframe thead th {\n",
       "        text-align: right;\n",
       "    }\n",
       "</style>\n",
       "<table border=\"1\" class=\"dataframe\">\n",
       "  <thead>\n",
       "    <tr style=\"text-align: right;\">\n",
       "      <th></th>\n",
       "      <th>Response</th>\n",
       "      <th>Type of Response</th>\n",
       "    </tr>\n",
       "  </thead>\n",
       "  <tbody>\n",
       "    <tr>\n",
       "      <th>0</th>\n",
       "      <td>\\n\\nhello kevin,\\ni have time later next week....</td>\n",
       "      <td>hot</td>\n",
       "    </tr>\n",
       "    <tr>\n",
       "      <th>1</th>\n",
       "      <td>\\nright now that time looks ok.\\n\\ndavid joyce...</td>\n",
       "      <td>hot</td>\n",
       "    </tr>\n",
       "    <tr>\n",
       "      <th>2</th>\n",
       "      <td>\\nmark, \\n\\ni am available in the afternoon fr...</td>\n",
       "      <td>hot</td>\n",
       "    </tr>\n",
       "    <tr>\n",
       "      <th>3</th>\n",
       "      <td>\\nit is year end.  please reach out after july...</td>\n",
       "      <td>hot</td>\n",
       "    </tr>\n",
       "    <tr>\n",
       "      <th>4</th>\n",
       "      <td>\\nhi kevin,\\n\\nthanks for reaching out.  we'd ...</td>\n",
       "      <td>hot</td>\n",
       "    </tr>\n",
       "  </tbody>\n",
       "</table>\n",
       "</div>"
      ],
      "text/plain": [
       "                                            Response Type of Response\n",
       "0  \\n\\nhello kevin,\\ni have time later next week....              hot\n",
       "1  \\nright now that time looks ok.\\n\\ndavid joyce...              hot\n",
       "2  \\nmark, \\n\\ni am available in the afternoon fr...              hot\n",
       "3  \\nit is year end.  please reach out after july...              hot\n",
       "4  \\nhi kevin,\\n\\nthanks for reaching out.  we'd ...              hot"
      ]
     },
     "execution_count": 4,
     "metadata": {},
     "output_type": "execute_result"
    }
   ],
   "source": [
    "df['Response']=EmailBody\n",
    "df.head()"
   ]
  },
  {
   "cell_type": "code",
   "execution_count": 5,
   "metadata": {},
   "outputs": [
    {
     "name": "stderr",
     "output_type": "stream",
     "text": [
      "/usr/lib/python3.5/importlib/_bootstrap.py:222: RuntimeWarning: numpy.dtype size changed, may indicate binary incompatibility. Expected 96, got 88\n",
      "  return f(*args, **kwds)\n",
      "/usr/lib/python3.5/importlib/_bootstrap.py:222: RuntimeWarning: numpy.dtype size changed, may indicate binary incompatibility. Expected 96, got 88\n",
      "  return f(*args, **kwds)\n",
      "/usr/lib/python3.5/importlib/_bootstrap.py:222: RuntimeWarning: numpy.dtype size changed, may indicate binary incompatibility. Expected 96, got 88\n",
      "  return f(*args, **kwds)\n"
     ]
    },
    {
     "name": "stdout",
     "output_type": "stream",
     "text": [
      "[nltk_data] Downloading package stopwords to /home/ctpl/nltk_data...\n",
      "[nltk_data]   Package stopwords is already up-to-date!\n"
     ]
    }
   ],
   "source": [
    "import nltk\n",
    "nltk.download('stopwords')\n",
    "from nltk.corpus import stopwords"
   ]
  },
  {
   "cell_type": "code",
   "execution_count": 6,
   "metadata": {},
   "outputs": [],
   "source": [
    "x= email_body\n",
    "y= df['Type of Response']\n",
    "from sklearn.model_selection import train_test_split\n",
    "X_train, X_test, y_train, y_test = train_test_split(x, y, test_size = 0.2, random_state = 0)\n"
   ]
  },
  {
   "cell_type": "code",
   "execution_count": 7,
   "metadata": {},
   "outputs": [],
   "source": [
    "import re\n",
    "import numpy as np\n",
    "train_test_split?"
   ]
  },
  {
   "cell_type": "code",
   "execution_count": 8,
   "metadata": {},
   "outputs": [],
   "source": [
    "REPLACE_BY_SPACE_RE = re.compile('[/(){}\\[\\]\\|@,;]')\n",
    "BAD_SYMBOLS_RE = re.compile('[^0-9a-z #+_]')\n",
    "STOPWORDS = set(stopwords.words('english'))\n",
    "\n",
    "def text_prepare(text):\n",
    " \n",
    "    text = text.lower()# lowercase text\n",
    "    text = REPLACE_BY_SPACE_RE.sub(' ', text) # replace REPLACE_BY_SPACE_RE symbols by space in text\n",
    "    text = BAD_SYMBOLS_RE.sub('', text) # delete symbols which are in BAD_SYMBOLS_RE from text\n",
    "    text = ' '.join(word for word in text.split() if word not in STOPWORDS)# delete stopwors from text\n",
    "    return text"
   ]
  },
  {
   "cell_type": "code",
   "execution_count": 9,
   "metadata": {},
   "outputs": [
    {
     "data": {
      "text/plain": [
       "['please take email list',\n",
       " 'andy short window time friday may 18th could take call 900 provided finished 930 conf call school leaders let know 900 confirmedthankssteve',\n",
       " 'kevin im sorry responding earlier emails ive swamped since starting right building dashboards driving sales something changes future ill reach outthank joejoe spiresmanager']"
      ]
     },
     "execution_count": 9,
     "metadata": {},
     "output_type": "execute_result"
    }
   ],
   "source": [
    "X_train = [text_prepare(x) for x in X_train]\n",
    "X_test = [text_prepare(x) for x in X_test]\n",
    "X_train[:3]"
   ]
  },
  {
   "cell_type": "code",
   "execution_count": 10,
   "metadata": {},
   "outputs": [],
   "source": [
    "from collections import defaultdict\n",
    "# Dictionary of all tags from train corpus with their counts.\n",
    "tags_counts = defaultdict(int)\n",
    "# Dictionary of all words from train corpus with their counts.\n",
    "words_counts = defaultdict(int)\n",
    "\n",
    "for tags in y_train:\n",
    "    for tag in tags:\n",
    "        tags_counts[tag] += 1\n",
    "for text in X_train:\n",
    "    for word in text.split():\n",
    "        words_counts[word] += 1\n"
   ]
  },
  {
   "cell_type": "code",
   "execution_count": 11,
   "metadata": {},
   "outputs": [],
   "source": [
    "#Bag of words\n",
    "\n",
    "DICT_SIZE = 1000\n",
    "INDEX_TO_WORDS = sorted(words_counts.keys(), key=lambda x: words_counts[x], reverse=True)[:DICT_SIZE]\n",
    "WORDS_TO_INDEX = {word:i for i, word in enumerate(INDEX_TO_WORDS)}\n",
    "ALL_WORDS = WORDS_TO_INDEX.keys()\n",
    "\n",
    "def my_bag_of_words(text, words_to_index, dict_size):\n",
    "\n",
    "    result_vector = np.zeros(dict_size)\n",
    "    for word in text.split():\n",
    "        if word in words_to_index:\n",
    "            result_vector[words_to_index[word]] += 1\n",
    "    return result_vector"
   ]
  },
  {
   "cell_type": "code",
   "execution_count": 12,
   "metadata": {},
   "outputs": [],
   "source": [
    "from scipy import sparse as sp_sparse"
   ]
  },
  {
   "cell_type": "code",
   "execution_count": 13,
   "metadata": {},
   "outputs": [
    {
     "name": "stdout",
     "output_type": "stream",
     "text": [
      "X_train shape  (69, 1000)\n",
      "X_test shape  (18, 1000)\n"
     ]
    }
   ],
   "source": [
    "X_train_mybag = sp_sparse.vstack([sp_sparse.csr_matrix(my_bag_of_words(text, WORDS_TO_INDEX, DICT_SIZE)) for text in X_train])\n",
    "X_test_mybag = sp_sparse.vstack([sp_sparse.csr_matrix(my_bag_of_words(text, WORDS_TO_INDEX, DICT_SIZE)) for text in X_test])\n",
    "print('X_train shape ', X_train_mybag.shape)\n",
    "print('X_test shape ', X_test_mybag.shape)"
   ]
  },
  {
   "cell_type": "code",
   "execution_count": 14,
   "metadata": {},
   "outputs": [],
   "source": [
    "from sklearn.feature_extraction.text import TfidfVectorizer\n",
    "TfidfVectorizer?"
   ]
  },
  {
   "cell_type": "code",
   "execution_count": 15,
   "metadata": {},
   "outputs": [],
   "source": [
    "#tfidf\n",
    "\n",
    "def tfidf_features(X_train, X_test):\n",
    "\n",
    "    # TF-IDF vectorizer with a proper parameters choice\n",
    "    # Fit the vectorizer on the train set\n",
    "    # Transform the train, test sets and return the result\n",
    "    \n",
    "    \n",
    "    tfidf_vectorizer = TfidfVectorizer(min_df=5, max_df=0.9, ngram_range=(1, 3),\n",
    "                                       token_pattern='(\\S+)')\n",
    "    \n",
    "    X_train = tfidf_vectorizer.fit_transform(X_train)\n",
    "    X_test = tfidf_vectorizer.transform(X_test)\n",
    "    \n",
    "    return X_train, X_test"
   ]
  },
  {
   "cell_type": "code",
   "execution_count": 16,
   "metadata": {},
   "outputs": [],
   "source": [
    "X_train_tfidf, X_test_tfidf = tfidf_features(X_train, X_test)"
   ]
  },
  {
   "cell_type": "code",
   "execution_count": 17,
   "metadata": {},
   "outputs": [
    {
     "data": {
      "text/plain": [
       "<5x39 sparse matrix of type '<class 'numpy.float64'>'\n",
       "\twith 21 stored elements in Compressed Sparse Row format>"
      ]
     },
     "execution_count": 17,
     "metadata": {},
     "output_type": "execute_result"
    }
   ],
   "source": [
    "X_train_tfidf[:5]"
   ]
  },
  {
   "cell_type": "code",
   "execution_count": 19,
   "metadata": {},
   "outputs": [
    {
     "name": "stdout",
     "output_type": "stream",
     "text": [
      "k=1 55.000000\n",
      "k=2 50.714286\n",
      "k=3 62.142857\n",
      "k=4 62.142857\n",
      "k=5 62.142857\n",
      "k=6 57.857143\n",
      "k=7 57.857143\n",
      "k=8 52.142857\n",
      "k=9 52.142857\n",
      "k=10 51.904762\n",
      "k=11 51.904762\n",
      "k=12 49.047619\n",
      "k=13 46.428571\n",
      "k=14 45.000000\n",
      "k=15 45.000000\n",
      "k=16 49.285714\n",
      "k=17 47.857143\n",
      "k=18 49.047619\n",
      "k=19 46.190476\n",
      "k=20 46.190476\n",
      "k=21 47.619048\n",
      "k=22 47.619048\n",
      "k=23 44.761905\n",
      "k=24 43.333333\n",
      "k=25 46.190476\n",
      "The optimal number of neighbors is 2 with 62.142857\n"
     ]
    },
    {
     "data": {
      "image/png": "[encoded data removed]",
      "text/plain": [
       "<Figure size 432x288 with 1 Axes>"
      ]
     },
     "metadata": {},
     "output_type": "display_data"
    }
   ],
   "source": [
    "# 1. KNN classifier on tfidf\n",
    "import matplotlib.pyplot as plt\n",
    "%matplotlib inline\n",
    "from sklearn import model_selection\n",
    "from sklearn.neighbors import KNeighborsClassifier\n",
    "\n",
    "#Neighbors\n",
    "neighbors = np.arange(0,25)\n",
    "\n",
    "#Create empty list that will hold cv scores\n",
    "cv_scores = []\n",
    "\n",
    "#Perform 10-fold cross validation on training set for odd values of k:\n",
    "for k in neighbors:\n",
    "    k_value = k+1\n",
    "    knn = KNeighborsClassifier(n_neighbors = k_value, weights='uniform', p=2, metric='euclidean')\n",
    "    kfold = model_selection.KFold(n_splits=10, random_state=123)\n",
    "    scores = model_selection.cross_val_score(knn, X_train_tfidf, y_train, cv=kfold, scoring='accuracy')\n",
    "    cv_scores.append(scores.mean()*100)\n",
    "    print(\"k=%d %f\" % (k_value, scores.mean()*100))\n",
    "\n",
    "optimal_k = neighbors[cv_scores.index(max(cv_scores))]\n",
    "print (\"The optimal number of neighbors is %d with %f\" % (optimal_k, cv_scores[optimal_k]))\n",
    "\n",
    "plt.plot(neighbors, cv_scores)\n",
    "plt.xlabel('Number of Neighbors K')\n",
    "plt.ylabel('Train Accuracy')\n",
    "plt.show()"
   ]
  },
  {
   "cell_type": "code",
   "execution_count": 21,
   "metadata": {},
   "outputs": [
    {
     "name": "stdout",
     "output_type": "stream",
     "text": [
      "44.44444444444444\n"
     ]
    }
   ],
   "source": [
    "from sklearn.metrics import accuracy_score\n",
    "from sklearn.neighbors import KNeighborsClassifier\n",
    "knn = KNeighborsClassifier(n_neighbors=2)\n",
    "knn.fit(X_train_tfidf, y_train)\n",
    "knnpred = knn.predict(X_test_tfidf)\n",
    "\n",
    "print(accuracy_score(y_test, knnpred)*100)\n"
   ]
  },
  {
   "cell_type": "code",
   "execution_count": 22,
   "metadata": {},
   "outputs": [
    {
     "name": "stdout",
     "output_type": "stream",
     "text": [
      "k=1 40.476190\n",
      "k=2 39.285714\n",
      "k=3 36.428571\n",
      "k=4 33.571429\n",
      "k=5 36.428571\n",
      "k=6 36.428571\n",
      "k=7 36.428571\n",
      "k=8 40.714286\n",
      "k=9 40.714286\n",
      "k=10 34.761905\n",
      "k=11 37.619048\n",
      "k=12 36.190476\n",
      "k=13 36.190476\n",
      "k=14 34.761905\n",
      "k=15 34.761905\n",
      "k=16 34.761905\n",
      "k=17 34.761905\n",
      "k=18 34.761905\n",
      "k=19 36.190476\n",
      "k=20 34.761905\n",
      "k=21 34.761905\n",
      "k=22 34.761905\n",
      "k=23 34.761905\n",
      "k=24 34.761905\n",
      "k=25 34.761905\n",
      "The optimal number of neighbors is 7 with 40.714286\n"
     ]
    },
    {
     "data": {
      "image/png": "[encoded data removed]",
      "text/plain": [
       "<Figure size 432x288 with 1 Axes>"
      ]
     },
     "metadata": {},
     "output_type": "display_data"
    }
   ],
   "source": [
    "# 1. KNN classifier on bag of words\n",
    "import matplotlib.pyplot as plt\n",
    "%matplotlib inline\n",
    "from sklearn import model_selection\n",
    "from sklearn.neighbors import KNeighborsClassifier\n",
    "\n",
    "#Neighbors\n",
    "neighbors = np.arange(0,25)\n",
    "\n",
    "#Create empty list that will hold cv scores\n",
    "cv_scores = []\n",
    "\n",
    "#Perform 10-fold cross validation on training set for odd values of k:\n",
    "for k in neighbors:\n",
    "    k_value = k+1\n",
    "    knn = KNeighborsClassifier(n_neighbors = k_value, weights='uniform', p=2, metric='euclidean')\n",
    "    kfold = model_selection.KFold(n_splits=10, random_state=123)\n",
    "    scores = model_selection.cross_val_score(knn, X_train_mybag, y_train, cv=kfold, scoring='accuracy')\n",
    "    cv_scores.append(scores.mean()*100)\n",
    "    print(\"k=%d %f\" % (k_value, scores.mean()*100))\n",
    "\n",
    "optimal_k = neighbors[cv_scores.index(max(cv_scores))]\n",
    "print (\"The optimal number of neighbors is %d with %f\" % (optimal_k, cv_scores[optimal_k]))\n",
    "\n",
    "plt.plot(neighbors, cv_scores)\n",
    "plt.xlabel('Number of Neighbors K')\n",
    "plt.ylabel('Train Accuracy')\n",
    "plt.show()"
   ]
  },
  {
   "cell_type": "code",
   "execution_count": 23,
   "metadata": {},
   "outputs": [
    {
     "name": "stdout",
     "output_type": "stream",
     "text": [
      "55.55555555555556\n"
     ]
    }
   ],
   "source": [
    "from sklearn.metrics import accuracy_score\n",
    "from sklearn.neighbors import KNeighborsClassifier\n",
    "knn = KNeighborsClassifier(n_neighbors=2)\n",
    "knn.fit(X_train_mybag, y_train)\n",
    "knnpred = knn.predict(X_test_mybag)\n",
    "\n",
    "print(accuracy_score(y_test, knnpred)*100)"
   ]
  },
  {
   "cell_type": "code",
   "execution_count": 24,
   "metadata": {},
   "outputs": [
    {
     "name": "stdout",
     "output_type": "stream",
     "text": [
      "38.88888888888889\n"
     ]
    }
   ],
   "source": [
    "# 2. Logistic regression on tfidf\n",
    "from sklearn.linear_model import LogisticRegression\n",
    "logmodel = LogisticRegression() \n",
    "logmodel.fit(X_train_tfidf,y_train)\n",
    "logpred = logmodel.predict(X_test_tfidf)\n",
    "\n",
    "print(accuracy_score(y_test, logpred)*100)\n"
   ]
  },
  {
   "cell_type": "code",
   "execution_count": 25,
   "metadata": {},
   "outputs": [
    {
     "name": "stdout",
     "output_type": "stream",
     "text": [
      "50.0\n"
     ]
    }
   ],
   "source": [
    "# 2. Logistic regression on bag of words\n",
    "from sklearn.linear_model import LogisticRegression\n",
    "logmodel = LogisticRegression() \n",
    "logmodel.fit(X_train_mybag,y_train)\n",
    "logpred = logmodel.predict(X_test_mybag)\n",
    "\n",
    "print(accuracy_score(y_test, logpred)*100)\n"
   ]
  },
  {
   "cell_type": "code",
   "execution_count": 26,
   "metadata": {},
   "outputs": [
    {
     "name": "stdout",
     "output_type": "stream",
     "text": [
      "33.33333333333333\n",
      "50.0\n",
      "38.88888888888889\n"
     ]
    }
   ],
   "source": [
    "# 3. Linear classifiers: Support Vector Machines (kernel: sigmoid) for tfidf\n",
    "\n",
    "from sklearn.svm import SVC\n",
    "for this_gamma in [.01, 1.0, 10.0]:\n",
    "    svc= SVC(kernel = 'sigmoid', gamma= this_gamma)\n",
    "    svc.fit(X_train_tfidf, y_train)\n",
    "    svcpred = svc.predict(X_test_tfidf)\n",
    "    print(accuracy_score(y_test, svcpred)*100)\n"
   ]
  },
  {
   "cell_type": "code",
   "execution_count": 27,
   "metadata": {},
   "outputs": [
    {
     "name": "stdout",
     "output_type": "stream",
     "text": [
      "33.33333333333333\n",
      "55.55555555555556\n",
      "38.88888888888889\n"
     ]
    }
   ],
   "source": [
    "# 3. Linear classifiers: Support Vector Machines (kernel: sigmoid) for bag of words\n",
    "\n",
    "from sklearn.svm import SVC\n",
    "for this_gamma in [.01, 1.0, 10.0]:\n",
    "    svc= SVC(kernel = 'sigmoid', gamma= this_gamma)\n",
    "    svc.fit(X_train_mybag, y_train)\n",
    "    svcpred = svc.predict(X_test_mybag)\n",
    "    print(accuracy_score(y_test, svcpred)*100)\n"
   ]
  },
  {
   "cell_type": "code",
   "execution_count": 28,
   "metadata": {},
   "outputs": [
    {
     "name": "stdout",
     "output_type": "stream",
     "text": [
      "0.01 33.33333333333333\n",
      "0.02 33.33333333333333\n",
      "0.03 33.33333333333333\n",
      "0.04 33.33333333333333\n",
      "0.05 33.33333333333333\n",
      "0.06 33.33333333333333\n",
      "0.07 33.33333333333333\n",
      "0.08 33.33333333333333\n",
      "0.09 33.33333333333333\n",
      "0.1 38.88888888888889\n",
      "1.0 44.44444444444444\n",
      "10.0 33.33333333333333\n"
     ]
    }
   ],
   "source": [
    "# 4. Linear classifiers: Support Vector Machines (kernel: Radial Basis Function) for tfidf\n",
    "\n",
    "from sklearn.svm import SVC\n",
    "for this_gamma in [.01, .02, .03, .04, .05, .06, .07, .08, .09, .1, 1.0, 10.0]:\n",
    "    svc= SVC(kernel = 'rbf', gamma= this_gamma)\n",
    "    svc.fit(X_train_tfidf, y_train)\n",
    "    svcpred = svc.predict(X_test_tfidf)\n",
    "    print(this_gamma, accuracy_score(y_test, svcpred)*100)\n"
   ]
  },
  {
   "cell_type": "code",
   "execution_count": 29,
   "metadata": {},
   "outputs": [
    {
     "name": "stdout",
     "output_type": "stream",
     "text": [
      "0.01 33.33333333333333\n",
      "0.02 33.33333333333333\n",
      "0.03 38.88888888888889\n",
      "0.04 33.33333333333333\n",
      "0.05 38.88888888888889\n",
      "0.06 38.88888888888889\n",
      "0.07 38.88888888888889\n",
      "0.08 38.88888888888889\n",
      "0.09 33.33333333333333\n",
      "0.1 33.33333333333333\n",
      "1.0 33.33333333333333\n",
      "10.0 33.33333333333333\n"
     ]
    }
   ],
   "source": [
    "# 4. Linear classifiers: Support Vector Machines (kernel: Radial Basis Function) for badg of words\n",
    "\n",
    "from sklearn.svm import SVC\n",
    "for this_gamma in [.01, .02, .03, .04, .05, .06, .07, .08, .09, .1, 1.0, 10.0]:\n",
    "    svc= SVC(kernel = 'rbf', gamma= this_gamma)\n",
    "    svc.fit(X_train_mybag, y_train)\n",
    "    svcpred = svc.predict(X_test_mybag)\n",
    "    print(this_gamma, accuracy_score(y_test, svcpred)*100)"
   ]
  },
  {
   "cell_type": "code",
   "execution_count": 30,
   "metadata": {},
   "outputs": [
    {
     "name": "stdout",
     "output_type": "stream",
     "text": [
      "50.0\n",
      "50.0\n",
      "50.0\n"
     ]
    }
   ],
   "source": [
    "# 5. Linear classifiers: Support Vector Machines (kernel: Linear) for tfidf\n",
    "\n",
    "from sklearn.svm import SVC\n",
    "for this_gamma in [.01, 1.0, 10.0]:\n",
    "    svc= SVC(kernel = 'linear', gamma= this_gamma)\n",
    "    svc.fit(X_train_tfidf, y_train)\n",
    "    svcpred = svc.predict(X_test_tfidf)\n",
    "    print(accuracy_score(y_test, svcpred)*100)"
   ]
  },
  {
   "cell_type": "code",
   "execution_count": 31,
   "metadata": {},
   "outputs": [
    {
     "name": "stdout",
     "output_type": "stream",
     "text": [
      "50.0\n"
     ]
    }
   ],
   "source": [
    "# 5. Linear classifiers: Support Vector Machines (kernel: Linear) for bag of words\n",
    "\n",
    "from sklearn.svm import SVC\n",
    "svc= SVC(kernel = 'linear')\n",
    "svc.fit(X_train_mybag, y_train)\n",
    "svcpred = svc.predict(X_test_mybag)\n",
    "print(accuracy_score(y_test, svcpred)*100)"
   ]
  },
  {
   "cell_type": "code",
   "execution_count": 32,
   "metadata": {},
   "outputs": [
    {
     "name": "stdout",
     "output_type": "stream",
     "text": [
      "50.0\n"
     ]
    },
    {
     "name": "stderr",
     "output_type": "stream",
     "text": [
      "/usr/lib/python3.5/importlib/_bootstrap.py:222: RuntimeWarning: numpy.dtype size changed, may indicate binary incompatibility. Expected 96, got 88\n",
      "  return f(*args, **kwds)\n"
     ]
    }
   ],
   "source": [
    "# 6. Decision Tree Classifier for tfidf\n",
    "from sklearn.tree import DecisionTreeClassifier\n",
    "dtree = DecisionTreeClassifier(criterion='gini') #criterion = entopy, gini\n",
    "dtree.fit(X_train_tfidf, y_train)\n",
    "dtreepred = dtree.predict(X_test_tfidf)\n",
    "\n",
    "print(accuracy_score(y_test, dtreepred)*100)\n",
    "\n"
   ]
  },
  {
   "cell_type": "code",
   "execution_count": 33,
   "metadata": {},
   "outputs": [
    {
     "name": "stdout",
     "output_type": "stream",
     "text": [
      "55.55555555555556\n"
     ]
    }
   ],
   "source": [
    "# 6. Decision Tree Classifier for bag of words\n",
    "from sklearn.tree import DecisionTreeClassifier\n",
    "dtree = DecisionTreeClassifier(criterion='gini') #criterion = entopy, gini\n",
    "dtree.fit(X_train_mybag, y_train)\n",
    "dtreepred = dtree.predict(X_test_mybag)\n",
    "\n",
    "print(accuracy_score(y_test, dtreepred)*100)\n",
    "\n"
   ]
  },
  {
   "cell_type": "code",
   "execution_count": 36,
   "metadata": {},
   "outputs": [
    {
     "name": "stdout",
     "output_type": "stream",
     "text": [
      "50.0\n"
     ]
    }
   ],
   "source": [
    "# 7. Random Forest Classifier(n=50) for tfidf\n",
    "\n",
    "from sklearn.ensemble import RandomForestClassifier\n",
    "rfc = RandomForestClassifier(n_estimators = 50)#criterion = entopy,gini\n",
    "rfc.fit(X_train_tfidf, y_train)\n",
    "rfcpred = rfc.predict(X_test_tfidf)\n",
    "\n",
    "print(accuracy_score(y_test, rfcpred)*100)"
   ]
  },
  {
   "cell_type": "code",
   "execution_count": 35,
   "metadata": {},
   "outputs": [
    {
     "name": "stdout",
     "output_type": "stream",
     "text": [
      "50.0\n"
     ]
    }
   ],
   "source": [
    "# 7. Random Forest Classifier(n=200) for bag of words\n",
    "\n",
    "from sklearn.ensemble import RandomForestClassifier\n",
    "rfc = RandomForestClassifier(n_estimators = 200)#criterion = entopy,gini\n",
    "rfc.fit(X_train_mybag, y_train)\n",
    "rfcpred = rfc.predict(X_test_mybag)\n",
    "\n",
    "print(accuracy_score(y_test, rfcpred)*100)"
   ]
  },
  {
   "cell_type": "code",
   "execution_count": 40,
   "metadata": {},
   "outputs": [
    {
     "name": "stdout",
     "output_type": "stream",
     "text": [
      "50.0\n"
     ]
    }
   ],
   "source": [
    "# 8. Random Forest Classifier(n=1000) for tfidf\n",
    "\n",
    "from sklearn.ensemble import RandomForestClassifier\n",
    "rfc = RandomForestClassifier(n_estimators = 1000)#criterion = entopy,gini\n",
    "rfc.fit(X_train_tfidf, y_train)\n",
    "rfcpred = rfc.predict(X_test_tfidf)\n",
    "\n",
    "print(accuracy_score(y_test, rfcpred)*100)"
   ]
  },
  {
   "cell_type": "code",
   "execution_count": 41,
   "metadata": {},
   "outputs": [
    {
     "name": "stdout",
     "output_type": "stream",
     "text": [
      "44.44444444444444\n"
     ]
    }
   ],
   "source": [
    "# 8. Random Forest Classifier(n=1000) for bag of words\n",
    "\n",
    "from sklearn.ensemble import RandomForestClassifier\n",
    "rfc = RandomForestClassifier(n_estimators = 1000)#criterion = entopy,gini\n",
    "rfc.fit(X_train_mybag, y_train)\n",
    "rfcpred = rfc.predict(X_test_mybag)\n",
    "\n",
    "print(accuracy_score(y_test, rfcpred)*100)"
   ]
  },
  {
   "cell_type": "code",
   "execution_count": 45,
   "metadata": {},
   "outputs": [
    {
     "name": "stdout",
     "output_type": "stream",
     "text": [
      "38.88888888888889\n"
     ]
    }
   ],
   "source": [
    "# 9. naive bayes classifier for tfidf\n",
    "\n",
    "from sklearn.naive_bayes import GaussianNB\n",
    "gaussiannb= GaussianNB()\n",
    "gaussiannb.fit(X_train_tfidf.toarray(), y_train)\n",
    "gaussiannbpred = gaussiannb.predict(X_test_tfidf.toarray())\n",
    "print(accuracy_score(y_test, gaussiannbpred)*100)\n"
   ]
  },
  {
   "cell_type": "code",
   "execution_count": 46,
   "metadata": {},
   "outputs": [
    {
     "name": "stdout",
     "output_type": "stream",
     "text": [
      "72.22222222222221\n"
     ]
    }
   ],
   "source": [
    "# 9. naive bayes classifier for bag of words\n",
    "\n",
    "from sklearn.naive_bayes import GaussianNB\n",
    "gaussiannb= GaussianNB()\n",
    "gaussiannb.fit(X_train_mybag.toarray(), y_train)\n",
    "gaussiannbpred = gaussiannb.predict(X_test_mybag.toarray())\n",
    "print(accuracy_score(y_test, gaussiannbpred)*100)"
   ]
  },
  {
   "cell_type": "code",
   "execution_count": 47,
   "metadata": {},
   "outputs": [
    {
     "name": "stdout",
     "output_type": "stream",
     "text": [
      "38.88888888888889\n"
     ]
    }
   ],
   "source": [
    "# 10. Gradient boosting classifier for tfidf\n",
    "\n",
    "from sklearn.ensemble import GradientBoostingClassifier\n",
    "gbk = GradientBoostingClassifier()\n",
    "gbk.fit(X_train_tfidf, y_train)\n",
    "gbkpred = gbk.predict(X_test_tfidf)\n",
    "\n",
    "print(accuracy_score(y_test, gbkpred)*100)"
   ]
  },
  {
   "cell_type": "code",
   "execution_count": 48,
   "metadata": {},
   "outputs": [
    {
     "name": "stdout",
     "output_type": "stream",
     "text": [
      "72.22222222222221\n"
     ]
    }
   ],
   "source": [
    "# 10. Gradient boosting classifier for bag of words\n",
    "\n",
    "from sklearn.ensemble import GradientBoostingClassifier\n",
    "gbk = GradientBoostingClassifier()\n",
    "gbk.fit(X_train_mybag, y_train)\n",
    "gbkpred = gbk.predict(X_test_mybag)\n",
    "\n",
    "print(accuracy_score(y_test, gbkpred)*100)"
   ]
  },
  {
   "cell_type": "code",
   "execution_count": 50,
   "metadata": {},
   "outputs": [
    {
     "name": "stdout",
     "output_type": "stream",
     "text": [
      "38.88888888888889\n"
     ]
    },
    {
     "name": "stderr",
     "output_type": "stream",
     "text": [
      "/usr/local/lib/python3.5/dist-packages/sklearn/preprocessing/label.py:151: DeprecationWarning: The truth value of an empty array is ambiguous. Returning False, but in future this will result in an error. Use `array.size > 0` to check that an array is not empty.\n",
      "  if diff:\n"
     ]
    }
   ],
   "source": [
    "# 11. XGBoost Classifier for tfidf\n",
    "\n",
    "from xgboost import XGBClassifier\n",
    "xgb = XGBClassifier()\n",
    "xgb.fit(X_train_tfidf, y_train)\n",
    "xgbprd = xgb.predict(X_test_tfidf)\n",
    "\n",
    "print(accuracy_score(y_test, xgbprd)*100)"
   ]
  },
  {
   "cell_type": "code",
   "execution_count": 51,
   "metadata": {},
   "outputs": [
    {
     "name": "stdout",
     "output_type": "stream",
     "text": [
      "61.111111111111114\n"
     ]
    },
    {
     "name": "stderr",
     "output_type": "stream",
     "text": [
      "/usr/local/lib/python3.5/dist-packages/sklearn/preprocessing/label.py:151: DeprecationWarning: The truth value of an empty array is ambiguous. Returning False, but in future this will result in an error. Use `array.size > 0` to check that an array is not empty.\n",
      "  if diff:\n"
     ]
    }
   ],
   "source": [
    "# 11. XGBoost Classifier for bag of words\n",
    "\n",
    "from xgboost import XGBClassifier\n",
    "xgb = XGBClassifier()\n",
    "xgb.fit(X_train_mybag, y_train)\n",
    "xgbprd = xgb.predict(X_test_mybag)\n",
    "\n",
    "print(accuracy_score(y_test, xgbprd)*100)"
   ]
  },
  {
   "cell_type": "code",
   "execution_count": null,
   "metadata": {},
   "outputs": [],
   "source": []
  }
 ],
 "metadata": {
  "kernelspec": {
   "display_name": "Python 3",
   "language": "python",
   "name": "python3"
  },
  "language_info": {
   "codemirror_mode": {
    "name": "ipython",
    "version": 3
   },
   "file_extension": ".py",
   "mimetype": "text/x-python",
   "name": "python",
   "nbconvert_exporter": "python",
   "pygments_lexer": "ipython3",
   "version": "3.5.2"
  },
  "widgets": {
   "application/vnd.jupyter.widget-state+json": {
    "state": {},
    "version_major": 2,
    "version_minor": 0
   }
  }
 },
 "nbformat": 4,
 "nbformat_minor": 2
}
